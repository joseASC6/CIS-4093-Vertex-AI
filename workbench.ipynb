{
 "cells": [
  {
   "cell_type": "markdown",
   "id": "ddf60937",
   "metadata": {},
   "source": [
    "# Vertex AI Workbench"
   ]
  },
  {
   "cell_type": "markdown",
   "id": "aac80349",
   "metadata": {},
   "source": [
    "install/upgrade Google Cloud services SDK"
   ]
  },
  {
   "cell_type": "code",
   "execution_count": null,
   "id": "9ce73f6d",
   "metadata": {},
   "outputs": [],
   "source": [
    "!pip3 install --upgrade --quiet google-cloud-aiplatform"
   ]
  },
  {
   "cell_type": "code",
   "execution_count": null,
   "id": "ae5af362",
   "metadata": {},
   "outputs": [],
   "source": [
    "!gcloud config list"
   ]
  },
  {
   "cell_type": "code",
   "execution_count": null,
   "id": "29baad4f",
   "metadata": {},
   "outputs": [],
   "source": [
    "# Enter the Google Cloud project ID, bucket URI, and region\n",
    "PROJECT_ID = ''\n",
    "BUCKET_URI = 'gs://'\n",
    "REGION = ''"
   ]
  },
  {
   "cell_type": "code",
   "execution_count": null,
   "id": "876317d7",
   "metadata": {},
   "outputs": [],
   "source": [
    "from google.cloud import aiplatform as ai\n",
    "# aiplatform will serve as an SDK to interact with Vertex AI features\n",
    "ai.init(project=PROJECT_ID, location=REGION, staging_bucket=BUCKET_URI)"
   ]
  },
  {
   "cell_type": "markdown",
   "id": "23b41306",
   "metadata": {},
   "source": [
    "# Loading data from a Google Storage bucket"
   ]
  },
  {
   "cell_type": "code",
   "execution_count": null,
   "id": "cde3935f",
   "metadata": {},
   "outputs": [],
   "source": [
    "import pandas as pd\n",
    "gcs_path = f'{BUCKET_URI}/dry_bean.csv'\n",
    "\n",
    "beans = pd.read_csv(gcs_path)\n",
    "\n",
    "beans.head()"
   ]
  },
  {
   "cell_type": "markdown",
   "id": "e7ef002f",
   "metadata": {},
   "source": [
    "# Exploring data with pandas in Vertex AI\n"
   ]
  },
  {
   "cell_type": "code",
   "execution_count": null,
   "id": "7ef07303",
   "metadata": {},
   "outputs": [],
   "source": [
    "beans.info()"
   ]
  },
  {
   "cell_type": "code",
   "execution_count": null,
   "id": "b8968ec5",
   "metadata": {},
   "outputs": [],
   "source": [
    "feature_names = beans.columns.tolist()"
   ]
  },
  {
   "cell_type": "code",
   "execution_count": null,
   "id": "e4204be0",
   "metadata": {},
   "outputs": [],
   "source": [
    "import seaborn as sns\n",
    "\n",
    "sns.pairplot(\n",
    "   beans,\n",
    "   vars=[\"Area\", \"MajorAxisLength\", \"MinorAxisLength\", \"Eccentricity\", \"roundness\"],\n",
    "   hue=\"Class\",\n",
    ");"
   ]
  },
  {
   "cell_type": "code",
   "execution_count": null,
   "id": "f959e3b9",
   "metadata": {},
   "outputs": [],
   "source": [
    "import matplotlib.pyplot as plt\n",
    "\n",
    "correlation = beans.corr(numeric_only=True)\n",
    "\n",
    "# Create a square heatmap with center at 0\n",
    "sns.heatmap(correlation, center=0, square=True, cmap=\"coolwarm\", vmin=-1, vmax=1)\n",
    "\n",
    "plt.show()\n",
    "\n"
   ]
  },
  {
   "cell_type": "markdown",
   "id": "447151f6",
   "metadata": {},
   "source": [
    "# Running an AutoML training job"
   ]
  },
  {
   "cell_type": "code",
   "execution_count": null,
   "id": "d948e835",
   "metadata": {},
   "outputs": [],
   "source": [
    "ds = ai.TabularDataset.create(\n",
    "   display_name=\"dry_bean_dataset\", gcs_source=gcs_path\n",
    ")"
   ]
  },
  {
   "cell_type": "code",
   "execution_count": null,
   "id": "7314b33a",
   "metadata": {},
   "outputs": [],
   "source": [
    "job = ai.AutoMLTabularTrainingJob(\n",
    "   display_name=\"dry-bean-classification\",\n",
    "   optimization_prediction_type=\"classification\",\n",
    ")"
   ]
  },
  {
   "cell_type": "code",
   "execution_count": null,
   "id": "2b40322f",
   "metadata": {},
   "outputs": [],
   "source": [
    "model = job.run(\n",
    "   dataset=ds,\n",
    "   target_column=\"Class\",\n",
    "   training_fraction_split=0.8,\n",
    "   validation_fraction_split=0.1,\n",
    "   test_fraction_split=0.1,\n",
    "   model_display_name=\"baseline-classification-model\",\n",
    "   disable_early_stopping=False,\n",
    ")"
   ]
  },
  {
   "cell_type": "markdown",
   "id": "a18fa784",
   "metadata": {},
   "source": [
    "# Deploying an AutoML model and generating predictions\n"
   ]
  },
  {
   "cell_type": "code",
   "execution_count": null,
   "id": "6c514a9d",
   "metadata": {},
   "outputs": [],
   "source": [
    "endpoint = model.deploy(machine_type=\"n1-standard-4\")"
   ]
  },
  {
   "cell_type": "code",
   "execution_count": null,
   "id": "4c0e3393",
   "metadata": {},
   "outputs": [],
   "source": [
    "prediction = endpoint.predict(\n",
    "   [\n",
    "       {\n",
    "           \"Area\": \"30099\",\n",
    "           \"Perimeter\": \"638.8209999999999\",\n",
    "           \"MajorAxisLength\": \"237.14191130827916\",\n",
    "           \"MinorAxisLength\": \"162.3034300714102\",\n",
    "           \"AspectRation\": \"1.4611022774068396\",\n",
    "           \"Eccentricity\": \"0.7290928631259719\",\n",
    "           \"ConvexArea\": \"30477\",\n",
    "           \"EquivDiameter\": \"195.76321681302556\",\n",
    "           \"Extent\": \"0.8036043251902283\",\n",
    "           \"Solidity\": \"0.9875972044492568\",\n",
    "           \"roundness\": \"0.9268374259664279\",\n",
    "           \"Compactness\": \"0.8255108332939839\",\n",
    "           \"ShapeFactor1\": \"0.007878730566074592\",\n",
    "           \"ShapeFactor2\": \"0.002256976927384019\",\n",
    "           \"ShapeFactor3\": \"0.6814681358857279\",\n",
    "           \"ShapeFactor4\": \"0.9956946453228307\",\n",
    "       }\n",
    "   ]\n",
    ")\n",
    "\n",
    "print(prediction)"
   ]
  }
 ],
 "metadata": {
  "language_info": {
   "name": "python"
  }
 },
 "nbformat": 4,
 "nbformat_minor": 5
}
