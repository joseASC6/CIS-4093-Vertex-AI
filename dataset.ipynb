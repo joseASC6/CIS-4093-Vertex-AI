{
 "cells": [
  {
   "cell_type": "markdown",
   "id": "19922994",
   "metadata": {},
   "source": [
    "# Download a sample dataset"
   ]
  },
  {
   "cell_type": "markdown",
   "id": "db07c524",
   "metadata": {},
   "source": [
    "## Imports"
   ]
  },
  {
   "cell_type": "code",
   "execution_count": 5,
   "id": "f2d19d73",
   "metadata": {},
   "outputs": [],
   "source": [
    "from pathlib import Path\n",
    "import pandas as pd"
   ]
  },
  {
   "cell_type": "markdown",
   "id": "6a3165e5",
   "metadata": {},
   "source": [
    "## Read Dry Bean Dataset as Pandas DF"
   ]
  },
  {
   "cell_type": "code",
   "execution_count": 6,
   "id": "0e6796fd",
   "metadata": {},
   "outputs": [],
   "source": [
    "cwd = Path.cwd()\n",
    "data_path = cwd / \"DryBeanDataset\" / \"Dry_Bean_Dataset.xlsx\""
   ]
  },
  {
   "cell_type": "code",
   "execution_count": 7,
   "id": "3e770d2e",
   "metadata": {},
   "outputs": [
    {
     "data": {
      "text/plain": [
       "(13611, 17)"
      ]
     },
     "execution_count": 7,
     "metadata": {},
     "output_type": "execute_result"
    }
   ],
   "source": [
    "beans = pd.read_excel(data_path)\n",
    "beans.shape"
   ]
  },
  {
   "cell_type": "markdown",
   "id": "746f3a82",
   "metadata": {},
   "source": [
    "# Save DF to CSV"
   ]
  },
  {
   "cell_type": "code",
   "execution_count": null,
   "id": "88f39d7d",
   "metadata": {},
   "outputs": [],
   "source": [
    "# beans.to_csv(cwd / \"DryBeanDataset\" / \"dry_bean.csv\", index=False)"
   ]
  }
 ],
 "metadata": {
  "kernelspec": {
   "display_name": "base",
   "language": "python",
   "name": "python3"
  },
  "language_info": {
   "codemirror_mode": {
    "name": "ipython",
    "version": 3
   },
   "file_extension": ".py",
   "mimetype": "text/x-python",
   "name": "python",
   "nbconvert_exporter": "python",
   "pygments_lexer": "ipython3",
   "version": "3.11.4"
  }
 },
 "nbformat": 4,
 "nbformat_minor": 5
}
